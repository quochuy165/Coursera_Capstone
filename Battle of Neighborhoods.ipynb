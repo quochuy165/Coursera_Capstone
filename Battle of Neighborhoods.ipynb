{
 "cells": [
  {
   "cell_type": "markdown",
   "metadata": {},
   "source": [
    "# Capstone Project - The Battle of the Neighborhoods\n",
    "### Applied Data Science Capstone by IBM/Coursera"
   ]
  },
  {
   "cell_type": "markdown",
   "metadata": {},
   "source": [
    "## Table of contents\n",
    "* [Introduction: Business Problem](#introduction)\n",
    "* [Data](#data)\n",
    "* [Methodology](#methodology)\n",
    "* [Analysis](#analysis)\n",
    "* [Results and Discussion](#results)\n",
    "* [Conclusion](#conclusion)"
   ]
  },
  {
   "cell_type": "markdown",
   "metadata": {},
   "source": [
    "\n",
    "\n",
    "## Introduction/Business Problem <a name=\"introduction\"></a>"
   ]
  },
  {
   "cell_type": "markdown",
   "metadata": {},
   "source": [
    "In this project, I will compare two big cities in **Vietnam**: *Ha Noi* - The Capital and *Ho Chi Minh City*. These two are diverse and are the Economic and financial center of different domains, North and South. This report will be targeted to people who are chosing which one they will live or work, also to who are curious about these two cities.\n",
    "\n",
    "This report will discuss how similar or dissimilar they are, focus on **population**, **area** and location of these two. Also this will explore venues from boroughs of respective cities. In addition, **house sales price** will be included to compare different price in different areas and see which place will be cheapest.\n",
    "\n",
    "The report will use data science powers to generate a few most promissing features based on those criterias. Advantages of each area will then be clearly expressed so that we can make comparison."
   ]
  },
  {
   "cell_type": "markdown",
   "metadata": {},
   "source": [
    "## Data <a name=\"data\"></a>"
   ]
  },
  {
   "cell_type": "markdown",
   "metadata": {},
   "source": [
    "Based on definition of our problem, factors that will influence our comparison are:\n",
    "* Number of population in boroughs (of these two cities): include population, land area, population density\n",
    "* House sale prices in both cities, unit: million Vietnam Dong (VND) per meter square\n",
    "* Location data generated from Google and Foursquare\n",
    "\n",
    "Following data sources will be needed to extract/generate the required information:\n",
    "* Vietnamese shape data which was converted to geojson data (Source: GADM data)\n",
    "* number of venues and their features and location in every boroughs will be obtained using **Foursquare API**\n",
    "* coordinate of Ha Noi and Ho Chi Minh City center will be obtained using **Google Maps API geocoding**"
   ]
  },
  {
   "cell_type": "markdown",
   "metadata": {},
   "source": [
    "#### Take a look at dataset I have prepared"
   ]
  },
  {
   "cell_type": "code",
   "execution_count": 23,
   "metadata": {},
   "outputs": [
    {
     "data": {
      "text/html": [
       "<div>\n",
       "<style scoped>\n",
       "    .dataframe tbody tr th:only-of-type {\n",
       "        vertical-align: middle;\n",
       "    }\n",
       "\n",
       "    .dataframe tbody tr th {\n",
       "        vertical-align: top;\n",
       "    }\n",
       "\n",
       "    .dataframe thead th {\n",
       "        text-align: right;\n",
       "    }\n",
       "</style>\n",
       "<table border=\"1\" class=\"dataframe\">\n",
       "  <thead>\n",
       "    <tr style=\"text-align: right;\">\n",
       "      <th></th>\n",
       "      <th>City</th>\n",
       "      <th>District</th>\n",
       "      <th>Area</th>\n",
       "      <th>Population</th>\n",
       "      <th>Density</th>\n",
       "      <th>Price</th>\n",
       "    </tr>\n",
       "  </thead>\n",
       "  <tbody>\n",
       "    <tr>\n",
       "      <th>0</th>\n",
       "      <td>Hà Nội</td>\n",
       "      <td>Quận Ba Đình</td>\n",
       "      <td>9.21</td>\n",
       "      <td>247.1</td>\n",
       "      <td>26830</td>\n",
       "      <td>168.0</td>\n",
       "    </tr>\n",
       "    <tr>\n",
       "      <th>1</th>\n",
       "      <td>Hà Nội</td>\n",
       "      <td>Quận Hoàn Kiếm</td>\n",
       "      <td>5.29</td>\n",
       "      <td>160.6</td>\n",
       "      <td>30359</td>\n",
       "      <td>426.0</td>\n",
       "    </tr>\n",
       "    <tr>\n",
       "      <th>2</th>\n",
       "      <td>Hà Nội</td>\n",
       "      <td>Quận Tây Hồ</td>\n",
       "      <td>24.39</td>\n",
       "      <td>168.3</td>\n",
       "      <td>6900</td>\n",
       "      <td>139.0</td>\n",
       "    </tr>\n",
       "    <tr>\n",
       "      <th>3</th>\n",
       "      <td>Hà Nội</td>\n",
       "      <td>Quận Long Biên</td>\n",
       "      <td>59.82</td>\n",
       "      <td>291.9</td>\n",
       "      <td>4880</td>\n",
       "      <td>75.3</td>\n",
       "    </tr>\n",
       "    <tr>\n",
       "      <th>4</th>\n",
       "      <td>Hà Nội</td>\n",
       "      <td>Quận Cầu Giấy</td>\n",
       "      <td>12.32</td>\n",
       "      <td>266.8</td>\n",
       "      <td>21656</td>\n",
       "      <td>155.0</td>\n",
       "    </tr>\n",
       "  </tbody>\n",
       "</table>\n",
       "</div>"
      ],
      "text/plain": [
       "     City        District   Area  Population  Density  Price\n",
       "0  Hà Nội    Quận Ba Đình   9.21       247.1    26830  168.0\n",
       "1  Hà Nội  Quận Hoàn Kiếm   5.29       160.6    30359  426.0\n",
       "2  Hà Nội     Quận Tây Hồ  24.39       168.3     6900  139.0\n",
       "3  Hà Nội  Quận Long Biên  59.82       291.9     4880   75.3\n",
       "4  Hà Nội   Quận Cầu Giấy  12.32       266.8    21656  155.0"
      ]
     },
     "execution_count": 23,
     "metadata": {},
     "output_type": "execute_result"
    }
   ],
   "source": [
    "###First Import Modules\n",
    "import pandas as pd\n",
    "import numpy as np\n",
    "\n",
    "##Read data\n",
    "city = pd.read_excel('Data.xlsx')\n",
    "city.head()"
   ]
  },
  {
   "cell_type": "markdown",
   "metadata": {},
   "source": [
    "*Whereas:*\n",
    " * City: name of city\n",
    " * District: name of district\n",
    " * Area: land area of each district, unit: kilometer square\n",
    " * Population: Number of people in each area, unit: thousand people\n",
    " * Density: Population density, unit: people/km2\n",
    " * Price: Average house sales price, million VND/m2"
   ]
  },
  {
   "cell_type": "code",
   "execution_count": null,
   "metadata": {},
   "outputs": [],
   "source": []
  }
 ],
 "metadata": {
  "kernelspec": {
   "display_name": "Python 3",
   "language": "python",
   "name": "python3"
  },
  "language_info": {
   "codemirror_mode": {
    "name": "ipython",
    "version": 3
   },
   "file_extension": ".py",
   "mimetype": "text/x-python",
   "name": "python",
   "nbconvert_exporter": "python",
   "pygments_lexer": "ipython3",
   "version": "3.8.2"
  }
 },
 "nbformat": 4,
 "nbformat_minor": 4
}
